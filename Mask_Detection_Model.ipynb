{
  "nbformat": 4,
  "nbformat_minor": 0,
  "metadata": {
    "colab": {
      "name": "Mask_Detection_Model.ipynb",
      "provenance": [],
      "collapsed_sections": [],
      "authorship_tag": "ABX9TyNi+Lq+x7nJmmc2eIqxj8an",
      "include_colab_link": true
    },
    "kernelspec": {
      "name": "python3",
      "display_name": "Python 3"
    },
    "language_info": {
      "name": "python"
    },
    "accelerator": "GPU",
    "widgets": {
      "application/vnd.jupyter.widget-state+json": {
        "28d79f6c9ce64d5b8068ef3c5d75925b": {
          "model_module": "@jupyter-widgets/controls",
          "model_name": "HBoxModel",
          "model_module_version": "1.5.0",
          "state": {
            "_view_name": "HBoxView",
            "_dom_classes": [],
            "_model_name": "HBoxModel",
            "_view_module": "@jupyter-widgets/controls",
            "_model_module_version": "1.5.0",
            "_view_count": null,
            "_view_module_version": "1.5.0",
            "box_style": "",
            "layout": "IPY_MODEL_bc9b35fcb73846418f4438387ade3d50",
            "_model_module": "@jupyter-widgets/controls",
            "children": [
              "IPY_MODEL_73c0f855548b45498f519989a374f43f",
              "IPY_MODEL_b42b494ac3ef4afc85efc4c00a1e3060",
              "IPY_MODEL_af689d5d52f24ee1854b22c2f43cf07f"
            ]
          }
        },
        "bc9b35fcb73846418f4438387ade3d50": {
          "model_module": "@jupyter-widgets/base",
          "model_name": "LayoutModel",
          "model_module_version": "1.2.0",
          "state": {
            "_view_name": "LayoutView",
            "grid_template_rows": null,
            "right": null,
            "justify_content": null,
            "_view_module": "@jupyter-widgets/base",
            "overflow": null,
            "_model_module_version": "1.2.0",
            "_view_count": null,
            "flex_flow": null,
            "width": null,
            "min_width": null,
            "border": null,
            "align_items": null,
            "bottom": null,
            "_model_module": "@jupyter-widgets/base",
            "top": null,
            "grid_column": null,
            "overflow_y": null,
            "overflow_x": null,
            "grid_auto_flow": null,
            "grid_area": null,
            "grid_template_columns": null,
            "flex": null,
            "_model_name": "LayoutModel",
            "justify_items": null,
            "grid_row": null,
            "max_height": null,
            "align_content": null,
            "visibility": null,
            "align_self": null,
            "height": null,
            "min_height": null,
            "padding": null,
            "grid_auto_rows": null,
            "grid_gap": null,
            "max_width": null,
            "order": null,
            "_view_module_version": "1.2.0",
            "grid_template_areas": null,
            "object_position": null,
            "object_fit": null,
            "grid_auto_columns": null,
            "margin": null,
            "display": null,
            "left": null
          }
        },
        "73c0f855548b45498f519989a374f43f": {
          "model_module": "@jupyter-widgets/controls",
          "model_name": "HTMLModel",
          "model_module_version": "1.5.0",
          "state": {
            "_view_name": "HTMLView",
            "style": "IPY_MODEL_041e44891eb741dc93d7116173adfc8a",
            "_dom_classes": [],
            "description": "",
            "_model_name": "HTMLModel",
            "placeholder": "​",
            "_view_module": "@jupyter-widgets/controls",
            "_model_module_version": "1.5.0",
            "value": "100%",
            "_view_count": null,
            "_view_module_version": "1.5.0",
            "description_tooltip": null,
            "_model_module": "@jupyter-widgets/controls",
            "layout": "IPY_MODEL_0ca2b54248e344f5af67961059dda673"
          }
        },
        "b42b494ac3ef4afc85efc4c00a1e3060": {
          "model_module": "@jupyter-widgets/controls",
          "model_name": "FloatProgressModel",
          "model_module_version": "1.5.0",
          "state": {
            "_view_name": "ProgressView",
            "style": "IPY_MODEL_78e09fbdf62540448eae604329fadf41",
            "_dom_classes": [],
            "description": "",
            "_model_name": "FloatProgressModel",
            "bar_style": "success",
            "max": 10,
            "_view_module": "@jupyter-widgets/controls",
            "_model_module_version": "1.5.0",
            "value": 10,
            "_view_count": null,
            "_view_module_version": "1.5.0",
            "orientation": "horizontal",
            "min": 0,
            "description_tooltip": null,
            "_model_module": "@jupyter-widgets/controls",
            "layout": "IPY_MODEL_e92e57e11c954fbea40a2be9385492e2"
          }
        },
        "af689d5d52f24ee1854b22c2f43cf07f": {
          "model_module": "@jupyter-widgets/controls",
          "model_name": "HTMLModel",
          "model_module_version": "1.5.0",
          "state": {
            "_view_name": "HTMLView",
            "style": "IPY_MODEL_9e22f9c97c1c467787190391fcadf98e",
            "_dom_classes": [],
            "description": "",
            "_model_name": "HTMLModel",
            "placeholder": "​",
            "_view_module": "@jupyter-widgets/controls",
            "_model_module_version": "1.5.0",
            "value": " 10/10 [01:37&lt;00:00,  9.30s/it]",
            "_view_count": null,
            "_view_module_version": "1.5.0",
            "description_tooltip": null,
            "_model_module": "@jupyter-widgets/controls",
            "layout": "IPY_MODEL_23faa87a76514b699372863c5425f543"
          }
        },
        "041e44891eb741dc93d7116173adfc8a": {
          "model_module": "@jupyter-widgets/controls",
          "model_name": "DescriptionStyleModel",
          "model_module_version": "1.5.0",
          "state": {
            "_view_name": "StyleView",
            "_model_name": "DescriptionStyleModel",
            "description_width": "",
            "_view_module": "@jupyter-widgets/base",
            "_model_module_version": "1.5.0",
            "_view_count": null,
            "_view_module_version": "1.2.0",
            "_model_module": "@jupyter-widgets/controls"
          }
        },
        "0ca2b54248e344f5af67961059dda673": {
          "model_module": "@jupyter-widgets/base",
          "model_name": "LayoutModel",
          "model_module_version": "1.2.0",
          "state": {
            "_view_name": "LayoutView",
            "grid_template_rows": null,
            "right": null,
            "justify_content": null,
            "_view_module": "@jupyter-widgets/base",
            "overflow": null,
            "_model_module_version": "1.2.0",
            "_view_count": null,
            "flex_flow": null,
            "width": null,
            "min_width": null,
            "border": null,
            "align_items": null,
            "bottom": null,
            "_model_module": "@jupyter-widgets/base",
            "top": null,
            "grid_column": null,
            "overflow_y": null,
            "overflow_x": null,
            "grid_auto_flow": null,
            "grid_area": null,
            "grid_template_columns": null,
            "flex": null,
            "_model_name": "LayoutModel",
            "justify_items": null,
            "grid_row": null,
            "max_height": null,
            "align_content": null,
            "visibility": null,
            "align_self": null,
            "height": null,
            "min_height": null,
            "padding": null,
            "grid_auto_rows": null,
            "grid_gap": null,
            "max_width": null,
            "order": null,
            "_view_module_version": "1.2.0",
            "grid_template_areas": null,
            "object_position": null,
            "object_fit": null,
            "grid_auto_columns": null,
            "margin": null,
            "display": null,
            "left": null
          }
        },
        "78e09fbdf62540448eae604329fadf41": {
          "model_module": "@jupyter-widgets/controls",
          "model_name": "ProgressStyleModel",
          "model_module_version": "1.5.0",
          "state": {
            "_view_name": "StyleView",
            "_model_name": "ProgressStyleModel",
            "description_width": "",
            "_view_module": "@jupyter-widgets/base",
            "_model_module_version": "1.5.0",
            "_view_count": null,
            "_view_module_version": "1.2.0",
            "bar_color": null,
            "_model_module": "@jupyter-widgets/controls"
          }
        },
        "e92e57e11c954fbea40a2be9385492e2": {
          "model_module": "@jupyter-widgets/base",
          "model_name": "LayoutModel",
          "model_module_version": "1.2.0",
          "state": {
            "_view_name": "LayoutView",
            "grid_template_rows": null,
            "right": null,
            "justify_content": null,
            "_view_module": "@jupyter-widgets/base",
            "overflow": null,
            "_model_module_version": "1.2.0",
            "_view_count": null,
            "flex_flow": null,
            "width": null,
            "min_width": null,
            "border": null,
            "align_items": null,
            "bottom": null,
            "_model_module": "@jupyter-widgets/base",
            "top": null,
            "grid_column": null,
            "overflow_y": null,
            "overflow_x": null,
            "grid_auto_flow": null,
            "grid_area": null,
            "grid_template_columns": null,
            "flex": null,
            "_model_name": "LayoutModel",
            "justify_items": null,
            "grid_row": null,
            "max_height": null,
            "align_content": null,
            "visibility": null,
            "align_self": null,
            "height": null,
            "min_height": null,
            "padding": null,
            "grid_auto_rows": null,
            "grid_gap": null,
            "max_width": null,
            "order": null,
            "_view_module_version": "1.2.0",
            "grid_template_areas": null,
            "object_position": null,
            "object_fit": null,
            "grid_auto_columns": null,
            "margin": null,
            "display": null,
            "left": null
          }
        },
        "9e22f9c97c1c467787190391fcadf98e": {
          "model_module": "@jupyter-widgets/controls",
          "model_name": "DescriptionStyleModel",
          "model_module_version": "1.5.0",
          "state": {
            "_view_name": "StyleView",
            "_model_name": "DescriptionStyleModel",
            "description_width": "",
            "_view_module": "@jupyter-widgets/base",
            "_model_module_version": "1.5.0",
            "_view_count": null,
            "_view_module_version": "1.2.0",
            "_model_module": "@jupyter-widgets/controls"
          }
        },
        "23faa87a76514b699372863c5425f543": {
          "model_module": "@jupyter-widgets/base",
          "model_name": "LayoutModel",
          "model_module_version": "1.2.0",
          "state": {
            "_view_name": "LayoutView",
            "grid_template_rows": null,
            "right": null,
            "justify_content": null,
            "_view_module": "@jupyter-widgets/base",
            "overflow": null,
            "_model_module_version": "1.2.0",
            "_view_count": null,
            "flex_flow": null,
            "width": null,
            "min_width": null,
            "border": null,
            "align_items": null,
            "bottom": null,
            "_model_module": "@jupyter-widgets/base",
            "top": null,
            "grid_column": null,
            "overflow_y": null,
            "overflow_x": null,
            "grid_auto_flow": null,
            "grid_area": null,
            "grid_template_columns": null,
            "flex": null,
            "_model_name": "LayoutModel",
            "justify_items": null,
            "grid_row": null,
            "max_height": null,
            "align_content": null,
            "visibility": null,
            "align_self": null,
            "height": null,
            "min_height": null,
            "padding": null,
            "grid_auto_rows": null,
            "grid_gap": null,
            "max_width": null,
            "order": null,
            "_view_module_version": "1.2.0",
            "grid_template_areas": null,
            "object_position": null,
            "object_fit": null,
            "grid_auto_columns": null,
            "margin": null,
            "display": null,
            "left": null
          }
        }
      }
    }
  },
  "cells": [
    {
      "cell_type": "markdown",
      "metadata": {
        "id": "view-in-github",
        "colab_type": "text"
      },
      "source": [
        "<a href=\"https://colab.research.google.com/github/Asif-Mammadov/mask-detection/blob/main/Mask_Detection_Model.ipynb\" target=\"_parent\"><img src=\"https://colab.research.google.com/assets/colab-badge.svg\" alt=\"Open In Colab\"/></a>"
      ]
    },
    {
      "cell_type": "code",
      "source": [
        "from google.colab.patches import cv2_imshow\n",
        "from PIL import Image\n",
        "from shutil import copy2\n",
        "from torch import optim\n",
        "from torchvision import transforms\n",
        "from torch.utils.data import DataLoader, Dataset, random_split\n",
        "from tqdm.notebook import tqdm\n",
        "import matplotlib.pyplot as plt\n",
        "import numpy as np\n",
        "import os\n",
        "import PIL\n",
        "import torch\n",
        "import torch.nn as nn"
      ],
      "metadata": {
        "id": "wCFcwsd-3AW1"
      },
      "execution_count": 1,
      "outputs": []
    },
    {
      "cell_type": "code",
      "execution_count": 2,
      "metadata": {
        "id": "MbP--0r89sE8",
        "colab": {
          "base_uri": "https://localhost:8080/"
        },
        "outputId": "890ab149-7eff-4b5f-fbaa-38cfac24b07b"
      },
      "outputs": [
        {
          "output_type": "stream",
          "name": "stdout",
          "text": [
            "Drive already mounted at /content/drive; to attempt to forcibly remount, call drive.mount(\"/content/drive\", force_remount=True).\n"
          ]
        }
      ],
      "source": [
        "# Mount GDrive\n",
        "from google.colab import drive\n",
        "drive.mount('/content/drive')"
      ]
    },
    {
      "cell_type": "code",
      "source": [
        "# Copy the data to a local collab instance\n",
        "from zipfile import ZipFile\n",
        "CWD = os.getcwd()\n",
        "if not os.path.exists(os.path.join(CWD, 'dataset')):\n",
        "  copy2('drive/MyDrive/datasets/RMFD/RMFD.zip', 'RMFD.zip')\n",
        "  ZipFile('RMFD.zip', ).extractall()\n",
        "  os.rename(os.path.join(CWD, 'self-built-masked-face-recognition-dataset'), os.path.join(CWD, 'dataset'))\n",
        "  os.rename(os.path.join(CWD, 'dataset', 'AFDB_face_dataset'), os.path.join(CWD, 'dataset', 'without-mask'))\n",
        "  os.rename(os.path.join(CWD, 'dataset', 'AFDB_masked_face_dataset'), os.path.join(CWD, 'dataset', 'with-mask'))\n",
        "  os.remove('RMFD.zip')"
      ],
      "metadata": {
        "id": "2hjUJK7yFOi3"
      },
      "execution_count": 3,
      "outputs": []
    },
    {
      "cell_type": "code",
      "source": [
        "!du -shc dataset/*"
      ],
      "metadata": {
        "colab": {
          "base_uri": "https://localhost:8080/"
        },
        "id": "hBUrKOmzEqqB",
        "outputId": "0ed62eda-77bc-4476-b33a-c511090a8906"
      },
      "execution_count": 4,
      "outputs": [
        {
          "output_type": "stream",
          "name": "stdout",
          "text": [
            "32K\tdataset/Readme.docx\n",
            "39M\tdataset/with-mask\n",
            "723M\tdataset/without-mask\n",
            "762M\ttotal\n"
          ]
        }
      ]
    },
    {
      "cell_type": "code",
      "source": [
        "!echo \"With mask: \" $(find dataset/with-mask -type f | wc -l)\n",
        "!echo \"Without mask: \" $(find dataset/without-mask -type f | wc -l)"
      ],
      "metadata": {
        "id": "1xiS8hkRHWIi",
        "colab": {
          "base_uri": "https://localhost:8080/"
        },
        "outputId": "0b327b72-c186-43df-d165-5aeb2b27ffac"
      },
      "execution_count": 5,
      "outputs": [
        {
          "output_type": "stream",
          "name": "stdout",
          "text": [
            "With mask:  2203\n",
            "Without mask:  90468\n"
          ]
        }
      ]
    },
    {
      "cell_type": "code",
      "source": [
        "def collect_images(label, category_path, image_list, label_list, n):\n",
        "  c = 0\n",
        "  for sub_name in os.listdir(category_path):\n",
        "    sub_path = os.path.join(category_path, sub_name)\n",
        "    for img_name in os.listdir(sub_path):\n",
        "      img_path = os.path.join(sub_path, img_name)\n",
        "      image_list.append(img_path)\n",
        "      label_list.append(label)\n",
        "      c += 1\n",
        "      # Set a counter limit\n",
        "      if c >= n:\n",
        "        return\n",
        "\n",
        "class MaskDataset(Dataset):\n",
        "  def __init__(self, root_dir):\n",
        "    self.root_dir = root_dir\n",
        "    self.transform = transforms.Compose([\n",
        "                                         transforms.Resize((100, 100)),\n",
        "                                         transforms.ToTensor(),\n",
        "                                         transforms.Normalize([0.485, 0.456, 0.406], [0.229, 0.224, 0.225])\n",
        "                                         ])\n",
        "    self.image_list = []\n",
        "    self.label_list = []\n",
        "    self.categories = [\"with-mask\", \"without-mask\"]\n",
        "    self.WIDTH, self.HEIGHT = 100, 100\n",
        "    c_with_mask = c_without_mask = 0\n",
        "    for category in self.categories:\n",
        "      label = int(category == \"with-mask\")\n",
        "      collect_images(label, os.path.join(root_dir, category), self.image_list, self.label_list, 2203)\n",
        "\n",
        "  def __len__(self):\n",
        "    return len(self.image_list)\n",
        "\n",
        "  def __getitem__(self, idx):\n",
        "    img = self.image_list[idx]\n",
        "    img = Image.open(img).convert(\"RGB\") # PIL\n",
        "    img = self.transform(img)\n",
        "    label = self.label_list[idx]\n",
        "    return img, label"
      ],
      "metadata": {
        "id": "0GGRGYQVBdIS"
      },
      "execution_count": 6,
      "outputs": []
    },
    {
      "cell_type": "code",
      "source": [
        "dataset = MaskDataset(\"dataset\")\n",
        "print(len(dataset))"
      ],
      "metadata": {
        "id": "QncaeL_q9z0y",
        "colab": {
          "base_uri": "https://localhost:8080/"
        },
        "outputId": "978bbb47-eda9-48dd-999a-c767b14b2df0"
      },
      "execution_count": 7,
      "outputs": [
        {
          "output_type": "stream",
          "name": "stdout",
          "text": [
            "4406\n"
          ]
        }
      ]
    },
    {
      "cell_type": "code",
      "source": [
        "b, k = [0.485, 0.456, 0.406], [0.229, 0.224, 0.225]\n",
        "def show_image(image, title=None):\n",
        "  for i in range(3):\n",
        "    image[i] = image[i]*k[i] + b[i]\n",
        "  new_image = image.permute(1, 2, 0)\n",
        "  plt.imshow(new_image)"
      ],
      "metadata": {
        "id": "CIveUQK7yf_t"
      },
      "execution_count": 8,
      "outputs": []
    },
    {
      "cell_type": "code",
      "source": [
        "image, label = dataset[200]\n",
        "show_image(image)"
      ],
      "metadata": {
        "colab": {
          "base_uri": "https://localhost:8080/",
          "height": 268
        },
        "id": "q0hIirO5v9Aq",
        "outputId": "5c6d8dcf-b489-4547-b4db-e095b745fce4"
      },
      "execution_count": 9,
      "outputs": [
        {
          "output_type": "display_data",
          "data": {
            "image/png": "[encoded data removed]",
            "text/plain": [
              "<Figure size 432x288 with 1 Axes>"
            ]
          },
          "metadata": {
            "needs_background": "light"
          }
        }
      ]
    },
    {
      "cell_type": "code",
      "source": [
        "\n",
        "val_size = int(len(dataset) * 0.2)\n",
        "train_size = len(dataset) - val_size\n",
        "print(train_size, val_size)\n",
        "\n",
        "train_dataset, val_dataset = random_split(dataset, [train_size, val_size], generator=torch.Generator().manual_seed(10))\n",
        "print(len(train_dataset), len(val_dataset))"
      ],
      "metadata": {
        "id": "l-HKNBwFmfpc",
        "colab": {
          "base_uri": "https://localhost:8080/"
        },
        "outputId": "bc17be48-65c3-4375-d7ab-77b02816dd16"
      },
      "execution_count": 10,
      "outputs": [
        {
          "output_type": "stream",
          "name": "stdout",
          "text": [
            "3525 881\n",
            "3525 881\n"
          ]
        }
      ]
    },
    {
      "cell_type": "code",
      "source": [
        "BATCH_SIZE = 32\n",
        "train_loader = DataLoader(train_dataset, BATCH_SIZE, drop_last=True)\n",
        "val_loader = DataLoader(val_dataset, BATCH_SIZE, drop_last=True)"
      ],
      "metadata": {
        "id": "3ZjP2Q7Smfra"
      },
      "execution_count": 11,
      "outputs": []
    },
    {
      "cell_type": "code",
      "source": [
        "for images, labels in train_loader:\n",
        "  print(images.shape, labels.shape)\n",
        "  break"
      ],
      "metadata": {
        "id": "SvjDviz0mfua",
        "colab": {
          "base_uri": "https://localhost:8080/"
        },
        "outputId": "41f8d22e-455a-4b64-bfba-f54435ced9cf"
      },
      "execution_count": 12,
      "outputs": [
        {
          "output_type": "stream",
          "name": "stdout",
          "text": [
            "torch.Size([32, 3, 100, 100]) torch.Size([32])\n"
          ]
        }
      ]
    },
    {
      "cell_type": "code",
      "source": [
        "class CNNArchitecture(nn.Module):\n",
        "  def __init__(self):\n",
        "    super(CNNArchitecture, self).__init__()\n",
        "    self.relu = nn.ReLU()\n",
        "    self.softmax = nn.Softmax(dim=1)\n",
        "\n",
        "    self.conv1 = nn.Conv2d(3, 32, (3, 3)) \n",
        "    self.max1 = nn.MaxPool2d(2, 2)\n",
        "\n",
        "    self.conv2 = nn.Conv2d(32, 64, (3, 3))\n",
        "    self.max2 = nn.MaxPool2d(2, 2)\n",
        "\n",
        "    self.conv3 = nn.Conv2d(64, 128, (3, 3))\n",
        "    self.max3 = nn.MaxPool2d(2,2)\n",
        "\n",
        "    self.conv4 = nn.Conv2d(128, 256, (3, 3))\n",
        "    self.max4 = nn.MaxPool2d(2, 2)\n",
        "\n",
        "    self.conv5 = nn.Conv2d(256, 512, (3, 3))\n",
        "    self.max5 = nn.MaxPool2d(2, 2)\n",
        "\n",
        "    self.linear = nn.Linear(512, 2)\n",
        "\n",
        "  def forward(self, images):\n",
        "    conv_out1 = self.conv1(images)\n",
        "    conv_out1 = self.relu(conv_out1)\n",
        "    max_out1 = self.max1(conv_out1)\n",
        "\n",
        "    conv_out2 = self.conv2(max_out1)\n",
        "    conv_out2 = self.relu(conv_out2)\n",
        "    max_out2 = self.max2(conv_out2)\n",
        "\n",
        "    conv_out3 = self.conv3(max_out2)\n",
        "    conv_out3 = self.relu(conv_out3)\n",
        "    max_out3 = self.max3(conv_out3)\n",
        "\n",
        "    conv_out4 = self.conv4(max_out3)\n",
        "    conv_out4 = self.relu(conv_out4)\n",
        "    max_out4 = self.max4(conv_out4)\n",
        "\n",
        "    conv_out5 = self.conv5(max_out4)\n",
        "    conv_out5 = self.relu(conv_out5)\n",
        "    max_out5 = self.max5(conv_out5)\n",
        "\n",
        "    out = max_out5.view(BATCH_SIZE, -1)\n",
        "\n",
        "    linear_out = self.linear(out)\n",
        "    linear_out = self.softmax(linear_out)\n",
        "\n",
        "    return linear_out"
      ],
      "metadata": {
        "id": "aL0GyzhAicVI"
      },
      "execution_count": 13,
      "outputs": []
    },
    {
      "cell_type": "code",
      "source": [
        "def accuracy(outputs, labels):\n",
        "  _, preds = torch.max(outputs, dim=1)\n",
        "  return torch.sum(preds == labels) / len(preds) "
      ],
      "metadata": {
        "id": "1qL3ttmGicXs"
      },
      "execution_count": 14,
      "outputs": []
    },
    {
      "cell_type": "code",
      "source": [
        "device = torch.device(\"cuda\" if torch.cuda.is_available() else \"cpu\")\n",
        "\n",
        "cnn = CNNArchitecture().to(device)\n",
        "\n",
        "criterion = nn.CrossEntropyLoss()\n",
        "optimizer = optim.Adam(cnn.parameters(), lr=1e-5)\n",
        "\n",
        "global_train_loss = []\n",
        "global_val_loss = []\n",
        "global_accuracy = []\n",
        "\n",
        "for epoch in tqdm(range(0, 10)):\n",
        "  train_loss_list = []\n",
        "  val_loss_list = []\n",
        "  accuracy_list = []\n",
        "\n",
        "  for images, labels in train_loader:\n",
        "    optimizer.zero_grad()\n",
        "    images = images.to(device)\n",
        "    labels = labels.to(device)\n",
        "    out = cnn(images)\n",
        "\n",
        "    loss = criterion(out, labels)\n",
        "    train_loss_list.append(loss.item())\n",
        "\n",
        "    loss.backward()\n",
        "    optimizer.step()\n",
        "\n",
        "  count = 0\n",
        "  for images, labels in val_loader:\n",
        "    images = images.to(device)\n",
        "    labels = labels.to(device)\n",
        "    out = cnn(images)\n",
        "    loss = criterion(out, labels)\n",
        "    val_loss_list.append(loss.item())\n",
        "    _accuracy = accuracy(out, labels).item()\n",
        "    accuracy_list.append(_accuracy)\n",
        "\n",
        "  global_train_loss.append(np.array(train_loss_list).mean())\n",
        "  global_val_loss.append(np.array(val_loss_list).mean())\n",
        "  global_accuracy.append(np.array(accuracy_list).mean())\n",
        "  print(\"Epoch :\", epoch, \"Training Loss :\", np.array(train_loss_list).mean(), \"Validation Loss\", np.array(val_loss_list).mean(), \"Validation Accuracy\", np.array(accuracy_list).mean())\n"
      ],
      "metadata": {
        "id": "c_sKig-picdV",
        "colab": {
          "base_uri": "https://localhost:8080/",
          "height": 233,
          "referenced_widgets": [
            "28d79f6c9ce64d5b8068ef3c5d75925b",
            "bc9b35fcb73846418f4438387ade3d50",
            "73c0f855548b45498f519989a374f43f",
            "b42b494ac3ef4afc85efc4c00a1e3060",
            "af689d5d52f24ee1854b22c2f43cf07f",
            "041e44891eb741dc93d7116173adfc8a",
            "0ca2b54248e344f5af67961059dda673",
            "78e09fbdf62540448eae604329fadf41",
            "e92e57e11c954fbea40a2be9385492e2",
            "9e22f9c97c1c467787190391fcadf98e",
            "23faa87a76514b699372863c5425f543"
          ]
        },
        "outputId": "74fc07d3-054d-4664-ce24-116275adfe64"
      },
      "execution_count": 15,
      "outputs": [
        {
          "output_type": "display_data",
          "data": {
            "application/vnd.jupyter.widget-view+json": {
              "model_id": "28d79f6c9ce64d5b8068ef3c5d75925b",
              "version_minor": 0,
              "version_major": 2
            },
            "text/plain": [
              "  0%|          | 0/10 [00:00<?, ?it/s]"
            ]
          },
          "metadata": {}
        },
        {
          "output_type": "stream",
          "name": "stdout",
          "text": [
            "Epoch : 0 Training Loss : 0.658198557658629 Validation Loss 0.6048574646313986 Validation Accuracy 0.7685185185185185\n",
            "Epoch : 1 Training Loss : 0.5143300674178384 Validation Loss 0.4585599689571946 Validation Accuracy 0.8865740740740741\n",
            "Epoch : 2 Training Loss : 0.42277599410577255 Validation Loss 0.41893605501563463 Validation Accuracy 0.9050925925925926\n",
            "Epoch : 3 Training Loss : 0.3982401728630066 Validation Loss 0.40516041605560865 Validation Accuracy 0.9085648148148148\n",
            "Epoch : 4 Training Loss : 0.3863606504418633 Validation Loss 0.39581783722948144 Validation Accuracy 0.9131944444444444\n",
            "Epoch : 5 Training Loss : 0.3779307641766288 Validation Loss 0.3860043364542502 Validation Accuracy 0.9282407407407407\n",
            "Epoch : 6 Training Loss : 0.3709063958037983 Validation Loss 0.37637677126460606 Validation Accuracy 0.9375\n",
            "Epoch : 7 Training Loss : 0.36483362886038695 Validation Loss 0.36874157079943903 Validation Accuracy 0.9502314814814815\n",
            "Epoch : 8 Training Loss : 0.3597656867720864 Validation Loss 0.3636409419554251 Validation Accuracy 0.9525462962962963\n",
            "Epoch : 9 Training Loss : 0.35606988749720836 Validation Loss 0.3601868240921586 Validation Accuracy 0.9548611111111112\n"
          ]
        }
      ]
    },
    {
      "cell_type": "code",
      "source": [
        "plt.plot(global_train_loss, marker='o', label=\"train loss\")\n",
        "plt.plot(global_val_loss, marker='o', label=\"validation loss\")\n",
        "plt.grid()\n",
        "plt.legend()"
      ],
      "metadata": {
        "id": "u1MoJtNSicjs",
        "colab": {
          "base_uri": "https://localhost:8080/",
          "height": 282
        },
        "outputId": "bec6406c-964d-45fa-9f4e-0ca717485eda"
      },
      "execution_count": 19,
      "outputs": [
        {
          "output_type": "execute_result",
          "data": {
            "text/plain": [
              "<matplotlib.legend.Legend at 0x7fda60950110>"
            ]
          },
          "metadata": {},
          "execution_count": 19
        },
        {
          "output_type": "display_data",
          "data": {
            "image/png": "[encoded data removed]",
            "text/plain": [
              "<Figure size 432x288 with 1 Axes>"
            ]
          },
          "metadata": {
            "needs_background": "light"
          }
        }
      ]
    },
    {
      "cell_type": "code",
      "source": [
        "plt.plot(global_accuracy, marker='o', color='r', label='validation accuracy')\n",
        "plt.grid()\n",
        "plt.legend()"
      ],
      "metadata": {
        "id": "RJb3lJ-M7i7e",
        "colab": {
          "base_uri": "https://localhost:8080/",
          "height": 282
        },
        "outputId": "65ebd86d-757a-4a6e-b3fc-cd9659cfb075"
      },
      "execution_count": 20,
      "outputs": [
        {
          "output_type": "execute_result",
          "data": {
            "text/plain": [
              "<matplotlib.legend.Legend at 0x7fda608b3490>"
            ]
          },
          "metadata": {},
          "execution_count": 20
        },
        {
          "output_type": "display_data",
          "data": {
            "image/png": "[encoded data removed]",
            "text/plain": [
              "<Figure size 432x288 with 1 Axes>"
            ]
          },
          "metadata": {
            "needs_background": "light"
          }
        }
      ]
    },
    {
      "cell_type": "code",
      "source": [
        "torch.save(cnn.state_dict(), '/content/drive/MyDrive/models/mask_detector')"
      ],
      "metadata": {
        "id": "24HqQLUbQbn2"
      },
      "execution_count": 18,
      "outputs": []
    }
  ]
}